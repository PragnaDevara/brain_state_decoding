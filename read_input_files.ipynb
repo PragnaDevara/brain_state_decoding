{
 "cells": [
  {
   "cell_type": "code",
   "execution_count": 1,
   "metadata": {},
   "outputs": [
    {
     "name": "stdout",
     "output_type": "stream",
     "text": [
      "[[-1.11122422 -1.21472994 -1.28126667 ... -0.41903154 -0.36113231\n",
      "  -0.1372287 ]\n",
      " [-0.89242961 -0.87271388 -0.71191143 ... -0.05799577 -0.03601544\n",
      "  -0.18694654]\n",
      " [-0.04187767  0.05299191  0.06420025 ... -0.85106459 -0.80989695\n",
      "  -0.80542349]\n",
      " ...\n",
      " [ 0.62540252  0.57779867  0.52074274 ...  0.85412917  0.85291862\n",
      "   1.0200116 ]\n",
      " [ 0.73922421  0.72762191  0.72278084 ...  0.48353093  0.46751106\n",
      "   0.44612689]\n",
      " [ 0.58307221  0.65039917  0.62903084 ...  1.07055056  1.14087645\n",
      "   1.12607138]]\n"
     ]
    }
   ],
   "source": [
    "import numpy as np\n",
    "\n",
    "\n",
    "data = np.load('./data/subset_data_subject1.npy', allow_pickle=True)\n",
    "\n",
    "print(data)"
   ]
  },
  {
   "cell_type": "code",
   "execution_count": 2,
   "metadata": {},
   "outputs": [
    {
     "data": {
      "text/plain": [
       "(864, 2000)"
      ]
     },
     "execution_count": 2,
     "metadata": {},
     "output_type": "execute_result"
    }
   ],
   "source": [
    "data.shape"
   ]
  },
  {
   "cell_type": "code",
   "execution_count": 3,
   "metadata": {},
   "outputs": [
    {
     "data": {
      "text/plain": [
       "2"
      ]
     },
     "execution_count": 3,
     "metadata": {},
     "output_type": "execute_result"
    }
   ],
   "source": [
    "len(data.shape)"
   ]
  },
  {
   "cell_type": "code",
   "execution_count": 5,
   "metadata": {},
   "outputs": [
    {
     "name": "stdout",
     "output_type": "stream",
     "text": [
      "         Column 0  Column 1  Column 2  Column 3  Column 4  Column 5  Column 6  \\\n",
      "Row 0   -1.111224 -1.214730 -1.281267 -1.421294 -1.517029 -1.528145 -1.341396   \n",
      "Row 1   -0.892430 -0.872714 -0.711911 -0.542842 -0.345523 -0.284622  0.024903   \n",
      "Row 2   -0.041878  0.052992  0.064200  0.113957  0.112721  0.262225  0.396694   \n",
      "Row 3    0.911895  0.574989  0.202152 -0.054403  0.011100  0.069068  0.164080   \n",
      "Row 4   -0.925371 -0.938887 -0.926466 -0.906962 -0.888971 -0.882759 -0.856296   \n",
      "...           ...       ...       ...       ...       ...       ...       ...   \n",
      "Row 859  0.537980  0.576079  0.590466  0.648540  0.610962  0.572098  0.517333   \n",
      "Row 860 -1.059347 -1.088863 -1.099853 -1.207106 -1.186794 -1.207238 -1.148626   \n",
      "Row 861  0.625403  0.577799  0.520743  0.569558  0.690301  0.723957  0.703515   \n",
      "Row 862  0.739224  0.727622  0.722781  0.683093  0.765315  0.849940  0.887515   \n",
      "Row 863  0.583072  0.650399  0.629031  0.582883  0.626247  0.623660  0.520082   \n",
      "\n",
      "         Column 7  Column 8  Column 9  ...  Column 1990  Column 1991  \\\n",
      "Row 0   -1.119100 -1.128231 -1.173063  ...    -1.040300    -1.027934   \n",
      "Row 1    0.134592  0.172925  0.233371  ...    -0.131612    -0.136464   \n",
      "Row 2    0.382806  0.371555  0.351774  ...    -0.638953    -0.609137   \n",
      "Row 3    0.209710  0.094756 -0.214496  ...     0.169351    -0.031697   \n",
      "Row 4   -0.840773 -0.862101 -0.860913  ...    -0.940035    -0.927154   \n",
      "...           ...       ...       ...  ...          ...          ...   \n",
      "Row 859  0.404916  0.342189  0.365623  ...    -1.000184    -0.905940   \n",
      "Row 860 -1.144706 -1.174996 -1.158015  ...     0.053499     0.057552   \n",
      "Row 861  0.701221  0.754210  0.806032  ...     0.491194     0.622965   \n",
      "Row 862  0.892923  0.831466  0.741066  ...     0.629929     0.617072   \n",
      "Row 863  0.437995  0.403519  0.334327  ...     1.260396     1.156334   \n",
      "\n",
      "         Column 1992  Column 1993  Column 1994  Column 1995  Column 1996  \\\n",
      "Row 0      -1.055241    -0.945718    -0.751233    -0.648197    -0.509007   \n",
      "Row 1      -0.169816    -0.213369    -0.054925    -0.097320    -0.154896   \n",
      "Row 2      -0.562874    -0.625426    -0.678120    -0.735223    -0.822992   \n",
      "Row 3      -0.301565    -0.462673    -0.498196    -0.337756    -0.244072   \n",
      "Row 4      -0.916654    -0.895419    -0.869965    -0.889389    -0.911481   \n",
      "...              ...          ...          ...          ...          ...   \n",
      "Row 859    -0.891577    -0.842228    -0.852608    -0.890694    -0.932452   \n",
      "Row 860     0.115935     0.141744     0.176962     0.185340     0.198927   \n",
      "Row 861     0.724093     0.758347     0.736921     0.807650     0.751151   \n",
      "Row 862     0.588522     0.536355     0.512109     0.487494     0.473534   \n",
      "Row 863     1.056430     1.111020     1.173570     1.203314     1.099453   \n",
      "\n",
      "         Column 1997  Column 1998  Column 1999  \n",
      "Row 0      -0.419032    -0.361132    -0.137229  \n",
      "Row 1      -0.057996    -0.036015    -0.186947  \n",
      "Row 2      -0.851065    -0.809897    -0.805423  \n",
      "Row 3      -0.184174    -0.215682    -0.256263  \n",
      "Row 4      -0.934688    -0.928332    -0.942595  \n",
      "...              ...          ...          ...  \n",
      "Row 859    -0.917741    -0.872679    -0.906730  \n",
      "Row 860     0.286724     0.458227     0.463033  \n",
      "Row 861     0.854129     0.852919     1.020012  \n",
      "Row 862     0.483531     0.467511     0.446127  \n",
      "Row 863     1.070551     1.140876     1.126071  \n",
      "\n",
      "[864 rows x 2000 columns]\n"
     ]
    }
   ],
   "source": [
    "import numpy as np\n",
    "import pandas as pd\n",
    "\n",
    "column_headers = [f\"Column {i}\" for i in range(data.shape[1])]\n",
    "rows = [f\"Row {i}\" for i in range(data.shape[0])]\n",
    "df = pd.DataFrame(data, index=rows, columns=column_headers)\n",
    "print(df)\n",
    "df.to_csv(\"./data/subset_data_subject1.csv\")"
   ]
  },
  {
   "cell_type": "code",
   "execution_count": 7,
   "metadata": {},
   "outputs": [
    {
     "name": "stdout",
     "output_type": "stream",
     "text": [
      "{'GT': array(['MA', 'MA', 'MA', 'MA', 'MA', 'MA', 'MA', 'MA', 'MA', 'MA', 'MA',\n",
      "       'MA', 'MA', 'MA', 'MA', 'MA', 'MA', 'MA', 'MA', 'MA', 'MA', 'MA',\n",
      "       'MA', 'MA', 'MA', 'MA', 'MA', 'MA', 'MA', 'MA', 'MA', 'MA', 'MA',\n",
      "       'MA', 'MA', 'MA', 'MA', 'MA', 'MA', 'MA', 'MA', 'MA', 'MA', 'MA',\n",
      "       'MA', 'MA', 'MA', 'MA', 'MA', 'MA', 'MA', 'MA', 'MA', 'MA', 'MA',\n",
      "       'MA', 'MA', 'MA', 'MA', 'MA', 'MA', 'MA', 'MA', 'MA', 'MA', 'MA',\n",
      "       'MA', 'MA', 'MA', 'MA', 'MA', 'MA', 'MA', 'MA', 'MA', 'MA', 'MA',\n",
      "       'MA', 'MA', 'MA', 'MA', 'MA', 'MA', 'MA', 'MA', 'MA', 'MA', 'MA',\n",
      "       'MA', 'MA', 'MA', 'MA', 'MA', 'MA', 'MA', 'MA', 'MA', 'MA', 'MA',\n",
      "       'MA', 'MA', 'MA', 'MA', 'MA', 'MA', 'MA', 'MA', 'MA', 'MA', 'MA',\n",
      "       'MA', 'MA', 'MA', 'MA', 'MA', 'MA', 'MA', 'MA', 'MA', 'MA', 'MA',\n",
      "       'MA', 'MA', 'MA', 'MA', 'MA', 'MA', 'MA', 'MA', 'MA', 'MA', 'MA',\n",
      "       'MA', 'MA', 'MA', 'MA', 'MA', 'MA', 'MA', 'MA', 'MA', 'MA', 'MA',\n",
      "       'MA', 'MA', 'MA', 'MA', 'MA', 'MA', 'MA', 'MA', 'MA', 'MA', 'MA',\n",
      "       'MA', 'MA', 'MA', 'MA', 'MA', 'MA', 'MA', 'MA', 'MA', 'MA', 'MA',\n",
      "       'MA', 'MA', 'MA', 'MA', 'MA', 'MA', 'MA', 'MA', 'MA', 'MA', 'MA',\n",
      "       'MA', 'MA', 'MA', 'MA', 'MA', 'MA', 'MA', 'MA', 'MA', 'MA', 'MA',\n",
      "       'MA', 'MA', 'MA', 'MA', 'MA', 'MA', 'MA', 'MA', 'MA', 'MA', 'MA',\n",
      "       'MA', 'MA', 'MA', 'MA', 'MA', 'MA', 'MA', 'MA', 'MA', 'MA', 'MA',\n",
      "       'MA', 'MA', 'MA', 'MA', 'MA', 'MA', 'MA', 'MA', 'MA', 'MA', 'MA',\n",
      "       'MA', 'MA', 'MA', 'MA', 'MA', 'MA', 'MA', 'MA', 'MA', 'MA', 'MA',\n",
      "       'MA', 'MA', 'MA', 'MA', 'MA', 'MA', 'MA', 'MA', 'MA', 'MA', 'MA',\n",
      "       'MA', 'MA', 'MA', 'MA', 'MA', 'MA', 'MA', 'MA', 'MA', 'MA', 'MA',\n",
      "       'MA', 'MA', 'MA', 'MA', 'MA', 'MA', 'MA', 'MA', 'MA', 'MA', 'MA',\n",
      "       'MA', 'MA', 'MA', 'MA', 'MA', 'MA', 'MA', 'MA', 'MA', 'MA', 'MA',\n",
      "       'MA', 'MA', 'MA', 'MA', 'MA', 'MA', 'MA', 'MA', 'MA', 'MA', 'MA',\n",
      "       'MA', 'MA', 'awake', 'awake', 'awake', 'awake', 'awake', 'awake',\n",
      "       'awake', 'awake', 'awake', 'awake', 'awake', 'awake', 'awake',\n",
      "       'awake', 'awake', 'awake', 'awake', 'awake', 'awake', 'awake',\n",
      "       'awake', 'awake', 'awake', 'awake', 'awake', 'awake', 'awake',\n",
      "       'awake', 'awake', 'awake', 'awake', 'awake', 'awake', 'awake',\n",
      "       'awake', 'awake', 'awake', 'awake', 'awake', 'awake', 'awake',\n",
      "       'awake', 'awake', 'awake', 'awake', 'awake', 'awake', 'awake',\n",
      "       'awake', 'awake', 'awake', 'awake', 'awake', 'awake', 'awake',\n",
      "       'awake', 'awake', 'awake', 'awake', 'awake', 'awake', 'awake',\n",
      "       'awake', 'awake', 'awake', 'awake', 'awake', 'awake', 'awake',\n",
      "       'awake', 'awake', 'awake', 'awake', 'awake', 'awake', 'awake',\n",
      "       'awake', 'awake', 'awake', 'awake', 'awake', 'awake', 'awake',\n",
      "       'awake', 'awake', 'awake', 'awake', 'awake', 'awake', 'awake',\n",
      "       'awake', 'awake', 'awake', 'awake', 'awake', 'awake', 'awake',\n",
      "       'awake', 'awake', 'awake', 'awake', 'awake', 'awake', 'awake',\n",
      "       'awake', 'awake', 'awake', 'awake', 'awake', 'awake', 'awake',\n",
      "       'awake', 'awake', 'awake', 'awake', 'awake', 'awake', 'awake',\n",
      "       'awake', 'awake', 'awake', 'awake', 'awake', 'awake', 'awake',\n",
      "       'awake', 'awake', 'awake', 'awake', 'awake', 'awake', 'awake',\n",
      "       'awake', 'awake', 'awake', 'awake', 'awake', 'awake', 'awake',\n",
      "       'awake', 'awake', 'awake', 'awake', 'awake', 'awake', 'awake',\n",
      "       'awake', 'awake', 'awake', 'awake', 'awake', 'awake', 'awake',\n",
      "       'awake', 'awake', 'awake', 'awake', 'awake', 'awake', 'awake',\n",
      "       'awake', 'awake', 'awake', 'awake', 'awake', 'awake', 'awake',\n",
      "       'awake', 'awake', 'awake', 'awake', 'awake', 'awake', 'awake',\n",
      "       'awake', 'awake', 'awake', 'awake', 'awake', 'awake', 'awake',\n",
      "       'awake', 'awake', 'awake', 'awake', 'awake', 'awake', 'awake',\n",
      "       'awake', 'awake', 'awake', 'awake', 'awake', 'awake', 'awake',\n",
      "       'awake', 'awake', 'awake', 'awake', 'awake', 'awake', 'awake',\n",
      "       'awake', 'awake', 'awake', 'awake', 'awake', 'awake', 'awake',\n",
      "       'awake', 'awake', 'awake', 'awake', 'awake', 'awake', 'awake',\n",
      "       'awake', 'awake', 'awake', 'awake', 'awake', 'awake', 'awake',\n",
      "       'awake', 'awake', 'awake', 'awake', 'awake', 'awake', 'awake',\n",
      "       'awake', 'awake', 'awake', 'awake', 'awake', 'awake', 'awake',\n",
      "       'awake', 'awake', 'awake', 'awake', 'awake', 'awake', 'awake',\n",
      "       'awake', 'awake', 'awake', 'awake', 'awake', 'awake', 'awake',\n",
      "       'awake', 'awake', 'awake', 'awake', 'awake', 'awake', 'awake',\n",
      "       'awake', 'awake', 'awake', 'awake', 'awake', 'awake', 'awake',\n",
      "       'awake', 'awake', 'awake', 'awake', 'awake', 'awake', 'awake',\n",
      "       'awake', 'awake', 'awake', 'awake', 'awake', 'awake', 'awake',\n",
      "       'awake', 'awake', 'awake', 'awake', 'awake', 'awake', 'awake',\n",
      "       'awake', 'awake', 'slow_updown', 'slow_updown', 'slow_updown',\n",
      "       'slow_updown', 'slow_updown', 'slow_updown', 'slow_updown',\n",
      "       'slow_updown', 'slow_updown', 'slow_updown', 'slow_updown',\n",
      "       'slow_updown', 'slow_updown', 'slow_updown', 'slow_updown',\n",
      "       'slow_updown', 'slow_updown', 'slow_updown', 'slow_updown',\n",
      "       'slow_updown', 'slow_updown', 'slow_updown', 'slow_updown',\n",
      "       'slow_updown', 'slow_updown', 'slow_updown', 'slow_updown',\n",
      "       'slow_updown', 'slow_updown', 'slow_updown', 'slow_updown',\n",
      "       'slow_updown', 'slow_updown', 'slow_updown', 'slow_updown',\n",
      "       'slow_updown', 'slow_updown', 'slow_updown', 'slow_updown',\n",
      "       'slow_updown', 'slow_updown', 'slow_updown', 'slow_updown',\n",
      "       'slow_updown', 'slow_updown', 'slow_updown', 'slow_updown',\n",
      "       'slow_updown', 'slow_updown', 'slow_updown', 'slow_updown',\n",
      "       'slow_updown', 'slow_updown', 'slow_updown', 'slow_updown',\n",
      "       'slow_updown', 'slow_updown', 'slow_updown', 'slow_updown',\n",
      "       'slow_updown', 'slow_updown', 'slow_updown', 'slow_updown',\n",
      "       'slow_updown', 'slow_updown', 'slow_updown', 'slow_updown',\n",
      "       'slow_updown', 'slow_updown', 'slow_updown', 'slow_updown',\n",
      "       'slow_updown', 'slow_updown', 'slow_updown', 'slow_updown',\n",
      "       'slow_updown', 'slow_updown', 'slow_updown', 'slow_updown',\n",
      "       'slow_updown', 'slow_updown', 'slow_updown', 'slow_updown',\n",
      "       'slow_updown', 'slow_updown', 'slow_updown', 'slow_updown',\n",
      "       'slow_updown', 'slow_updown', 'slow_updown', 'slow_updown',\n",
      "       'slow_updown', 'slow_updown', 'slow_updown', 'slow_updown',\n",
      "       'slow_updown', 'slow_updown', 'slow_updown', 'slow_updown',\n",
      "       'slow_updown', 'slow_updown', 'slow_updown', 'slow_updown',\n",
      "       'slow_updown', 'slow_updown', 'slow_updown', 'slow_updown',\n",
      "       'slow_updown', 'slow_updown', 'slow_updown', 'slow_updown',\n",
      "       'slow_updown', 'slow_updown', 'slow_updown', 'slow_updown',\n",
      "       'slow_updown', 'slow_updown', 'slow_updown', 'slow_updown',\n",
      "       'slow_updown', 'slow_updown', 'slow_updown', 'slow_updown',\n",
      "       'slow_updown', 'slow_updown', 'slow_updown', 'slow_updown',\n",
      "       'slow_updown', 'slow_updown', 'slow_updown', 'slow_updown',\n",
      "       'slow_updown', 'slow_updown', 'slow_updown', 'slow_updown',\n",
      "       'slow_updown', 'slow_updown', 'slow_updown', 'slow_updown',\n",
      "       'slow_updown', 'slow_updown', 'slow_updown', 'slow_updown',\n",
      "       'slow_updown', 'slow_updown', 'slow_updown', 'slow_updown',\n",
      "       'slow_updown', 'slow_updown', 'slow_updown', 'slow_updown',\n",
      "       'slow_updown', 'slow_updown', 'slow_updown', 'slow_updown',\n",
      "       'slow_updown', 'slow_updown', 'slow_updown', 'slow_updown',\n",
      "       'slow_updown', 'slow_updown', 'slow_updown', 'slow_updown',\n",
      "       'slow_updown', 'slow_updown', 'slow_updown', 'slow_updown',\n",
      "       'slow_updown', 'slow_updown', 'slow_updown', 'slow_updown',\n",
      "       'slow_updown', 'slow_updown', 'slow_updown', 'slow_updown',\n",
      "       'slow_updown', 'slow_updown', 'slow_updown', 'slow_updown',\n",
      "       'slow_updown', 'slow_updown', 'slow_updown', 'slow_updown',\n",
      "       'slow_updown', 'slow_updown', 'slow_updown', 'slow_updown',\n",
      "       'slow_updown', 'slow_updown', 'slow_updown', 'slow_updown',\n",
      "       'slow_updown', 'slow_updown', 'slow_updown', 'slow_updown',\n",
      "       'slow_updown', 'slow_updown', 'slow_updown', 'slow_updown',\n",
      "       'slow_updown', 'slow_updown', 'slow_updown', 'slow_updown',\n",
      "       'slow_updown', 'slow_updown', 'slow_updown', 'slow_updown',\n",
      "       'slow_updown', 'slow_updown', 'slow_updown', 'slow_updown',\n",
      "       'slow_updown', 'slow_updown', 'slow_updown', 'slow_updown',\n",
      "       'slow_updown', 'slow_updown', 'slow_updown', 'slow_updown',\n",
      "       'slow_updown', 'slow_updown', 'slow_updown', 'slow_updown',\n",
      "       'slow_updown', 'slow_updown', 'slow_updown', 'slow_updown',\n",
      "       'slow_updown', 'slow_updown', 'slow_updown', 'slow_updown',\n",
      "       'slow_updown', 'slow_updown', 'slow_updown', 'slow_updown',\n",
      "       'slow_updown', 'slow_updown', 'slow_updown', 'slow_updown',\n",
      "       'slow_updown', 'slow_updown', 'slow_updown', 'slow_updown',\n",
      "       'slow_updown', 'slow_updown', 'slow_updown', 'slow_updown',\n",
      "       'slow_updown', 'slow_updown', 'slow_updown', 'slow_updown',\n",
      "       'slow_updown', 'slow_updown', 'slow_updown', 'slow_updown',\n",
      "       'slow_updown', 'slow_updown', 'slow_updown', 'slow_updown',\n",
      "       'slow_updown', 'slow_updown', 'slow_updown', 'slow_updown',\n",
      "       'slow_updown', 'slow_updown', 'slow_updown', 'slow_updown',\n",
      "       'slow_updown', 'slow_updown', 'slow_updown', 'slow_updown',\n",
      "       'slow_updown', 'slow_updown', 'slow_updown', 'slow_updown',\n",
      "       'slow_updown', 'slow_updown', 'slow_updown', 'slow_updown',\n",
      "       'slow_updown', 'slow_updown', 'slow_updown', 'slow_updown',\n",
      "       'slow_updown', 'slow_updown', 'slow_updown', 'slow_updown',\n",
      "       'slow_updown'], dtype=object)}\n"
     ]
    }
   ],
   "source": [
    "import numpy as np\n",
    "import pandas as pd\n",
    "\n",
    "meta_data = np.load('./data/subset_metadata_subject1.pkl',allow_pickle=True)\n",
    "print(meta_data)"
   ]
  },
  {
   "cell_type": "code",
   "execution_count": 17,
   "metadata": {},
   "outputs": [
    {
     "name": "stdout",
     "output_type": "stream",
     "text": [
      "Data saved to ./data/subset_metadata_subject1_2.csv\n"
     ]
    }
   ],
   "source": [
    "import pickle\n",
    "import pandas as pd\n",
    "\n",
    "\n",
    "with open('./data/subset_metadata_subject1.pkl', 'rb') as f:\n",
    "    data = pickle.load(f)\n",
    "\n",
    "\n",
    "labels = data['GT']\n",
    "\n",
    "\n",
    "df = pd.DataFrame(labels, columns=['Labels'])\n",
    "\n",
    "csv_file_path = './data/subset_metadata_subject1_2.csv'\n",
    "df.to_csv(csv_file_path, index=False)\n",
    "\n",
    "print(f\"Data saved to {csv_file_path}\")\n"
   ]
  },
  {
   "cell_type": "code",
   "execution_count": null,
   "metadata": {},
   "outputs": [],
   "source": []
  },
  {
   "cell_type": "code",
   "execution_count": 19,
   "metadata": {},
   "outputs": [
    {
     "name": "stdout",
     "output_type": "stream",
     "text": [
      "Data saved to ./res_noartifact.csv\n"
     ]
    }
   ],
   "source": [
    "import pickle\n",
    "import pandas as pd\n",
    "\n",
    "\n",
    "with open('./res_noartifact.pkl', 'rb') as f:\n",
    "    data = pickle.load(f)\n",
    "\n",
    "\n",
    "\n",
    "df = pd.DataFrame(data)\n",
    "\n",
    "\n",
    "csv_file_path = './data/subset_metadata_subject1_3.csv'\n",
    "df.to_csv(csv_file_path, index=False)\n",
    "\n",
    "print(f\"Data saved to {csv_file_path}\")\n",
    "\n"
   ]
  }
 ],
 "metadata": {
  "kernelspec": {
   "display_name": "Python 3.11.7 64-bit",
   "language": "python",
   "name": "python3"
  },
  "language_info": {
   "codemirror_mode": {
    "name": "ipython",
    "version": 3
   },
   "file_extension": ".py",
   "mimetype": "text/x-python",
   "name": "python",
   "nbconvert_exporter": "python",
   "pygments_lexer": "ipython3",
   "version": "3.11.7"
  },
  "orig_nbformat": 4,
  "vscode": {
   "interpreter": {
    "hash": "aee8b7b246df8f9039afb4144a1f6fd8d2ca17a180786b69acc140d282b71a49"
   }
  }
 },
 "nbformat": 4,
 "nbformat_minor": 2
}
